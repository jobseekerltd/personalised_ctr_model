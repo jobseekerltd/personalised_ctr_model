{
 "cells": [
  {
   "cell_type": "code",
   "execution_count": 2,
   "metadata": {
    "collapsed": true
   },
   "outputs": [],
   "source": [
    "import pandas as pd\n",
    "from sklearn.pipeline import make_pipeline\n",
    "from sklearn.linear_model import LogisticRegression\n",
    "from sklearn.feature_extraction.text import CountVectorizer\n",
    "from multiprocessing import Pool\n",
    "import subprocess"
   ]
  },
  {
   "cell_type": "code",
   "execution_count": 6,
   "metadata": {
    "collapsed": false
   },
   "outputs": [],
   "source": [
    "#subprocess.Popen(\"aws s3 cp s3://jora-data-science/personalised-ctr-model/jora-search-clicks.csv000 jora-search-clicks.csv000\".split())\n",
    "df = pd.read_csv('../jora-search-clicks.csv000', sep = '\\t', header=None, names=['user_id', 'job_title', 'click_ind'], nrows=10000).dropna()"
   ]
  },
  {
   "cell_type": "code",
   "execution_count": 7,
   "metadata": {
    "collapsed": false
   },
   "outputs": [
    {
     "data": {
      "text/plain": [
       "750185                  10\n",
       "2WiBn4vyjyyv9n-veuS8     7\n",
       "eCy8PVzDVi9nu_csknHz     6\n",
       "cFaGomySHntifrNT2Fv4     6\n",
       "DC5heqieeJDYAzgEmFP9     5\n",
       "DNzzeFH9Cn1LsBSYrVZx     5\n",
       "wnD7jusPZQWaKZ2AzJVH     5\n",
       "p8P-B_suxHsyedSt5XzK     4\n",
       "NZW4YHxAeVsTUtC6w5xW     4\n",
       "Ezdyds74RYGktVgCWXer     4\n",
       "-YE2BNEvsR7brMsj5w2f     4\n",
       "aTz3S_5goysVUWno89X_     4\n",
       "CdG6daoz4nkUz__Z4us2     4\n",
       "EzqxoDcSkEWPuWnT8zH9     4\n",
       "ZaJX9VfSsyvMAqo1xdby     4\n",
       "M-XUATtgz1M-xs25zBT6     4\n",
       "Wr7FJ8gzmmy5oqsr4RYs     4\n",
       "ziQkttGmxawbiUNMndBf     4\n",
       "z1uUxHD5Reda4Qiwu7EE     3\n",
       "C-Qy6jWzSE8sxG6Zvy2g     3\n",
       "b1dwVJcS4ZAyutswcZJX     3\n",
       "G3eWzy671crsp4fRE_nj     3\n",
       "Lrna-iCXV2JJADYt6R_u     3\n",
       "zKzswmx7-pqaeKf7hk6b     3\n",
       "gofdv6hJxyuYoxyJLNc8     3\n",
       "NTkXSAxy5rjYEEsdQDSz     3\n",
       "Kp1DAwqDu3Cm9EM_MBsx     3\n",
       "885918                   3\n",
       "xNvoXYY7ZVcVT7yvpiyh     3\n",
       "7p1fhwDYZkYzATzBZgMy     3\n",
       "                        ..\n",
       "vdNsZqZGd-ydsN1oBnzU     1\n",
       "aczaRAxpbvDypE2TiqPt     1\n",
       "WnvczTUtX-D4F35y2id7     1\n",
       "TTsBs7-uj36YxnPhiSza     1\n",
       "-oxV_8tkCFGDMiryMckX     1\n",
       "be86B3EjjYzrb7TVfR9N     1\n",
       "nAryLvqWqYikDeKERb7H     1\n",
       "4cwgz4aX4ycPyAMWoNjz     1\n",
       "Cqx5tneiF2DEssX6Go3m     1\n",
       "XUKU-NDzabfiNJ3xWAad     1\n",
       "KvswNL5HUP9VWJgh-CcC     1\n",
       "m3uUnxD8kRtaxjpzHMUr     1\n",
       "b66aJEU94zvTFiiTrz1J     1\n",
       "wJYusNQT5_Bs4rHsi5_b     1\n",
       "cHXjWYrk7cMUBqpKzbAL     1\n",
       "7MgwCod1-fbHRt-9nSBK     1\n",
       "ReEWGo7cvpRJRmGYxCUk     1\n",
       "YyTVbCQsk9idueZxstYA     1\n",
       "Vp4qbJQa3CefXunXpehG     1\n",
       "ws6tLnpQHFYwdYSsNDAQ     1\n",
       "nivdqHsdprASRwatNJwi     1\n",
       "nzo_ss99k4thERVdpumg     1\n",
       "xPmG3-byWpLpeApFRydF     1\n",
       "8zVG9SrLKDV9yCLBpazR     1\n",
       "4Y1WRpDJ-fZyBpAdeux_     1\n",
       "WzunsMtj8VvyQKKy_rJa     1\n",
       "jD93xwC--gnqU2s2qmFM     1\n",
       "y58FxuzNcK55hC7mz3wN     1\n",
       "mGTro1KLbDR7KybDF2ov     1\n",
       "6_RcUVQLzxrnDx86rgL4     1\n",
       "Name: user_id, dtype: int64"
      ]
     },
     "execution_count": 7,
     "metadata": {},
     "output_type": "execute_result"
    }
   ],
   "source": [
    "df.user_id.value_counts()"
   ]
  },
  {
   "cell_type": "code",
   "execution_count": 8,
   "metadata": {
    "collapsed": false
   },
   "outputs": [
    {
     "data": {
      "text/html": [
       "<div>\n",
       "<table border=\"1\" class=\"dataframe\">\n",
       "  <thead>\n",
       "    <tr style=\"text-align: right;\">\n",
       "      <th></th>\n",
       "      <th>user_id</th>\n",
       "      <th>job_title</th>\n",
       "      <th>click_ind</th>\n",
       "    </tr>\n",
       "  </thead>\n",
       "  <tbody>\n",
       "    <tr>\n",
       "      <th>151</th>\n",
       "      <td>2WiBn4vyjyyv9n-veuS8</td>\n",
       "      <td>SUPPORT WORKER</td>\n",
       "      <td>1</td>\n",
       "    </tr>\n",
       "    <tr>\n",
       "      <th>1557</th>\n",
       "      <td>2WiBn4vyjyyv9n-veuS8</td>\n",
       "      <td>Support Assistant/Support Worker</td>\n",
       "      <td>1</td>\n",
       "    </tr>\n",
       "    <tr>\n",
       "      <th>3599</th>\n",
       "      <td>2WiBn4vyjyyv9n-veuS8</td>\n",
       "      <td>PA / Carer Required – Private Employer £1,300 pcm</td>\n",
       "      <td>1</td>\n",
       "    </tr>\n",
       "    <tr>\n",
       "      <th>5555</th>\n",
       "      <td>2WiBn4vyjyyv9n-veuS8</td>\n",
       "      <td>Care Assistants Wanted!</td>\n",
       "      <td>1</td>\n",
       "    </tr>\n",
       "    <tr>\n",
       "      <th>6429</th>\n",
       "      <td>2WiBn4vyjyyv9n-veuS8</td>\n",
       "      <td>Autism and Challenging Behavior - Support Worker</td>\n",
       "      <td>1</td>\n",
       "    </tr>\n",
       "    <tr>\n",
       "      <th>6546</th>\n",
       "      <td>2WiBn4vyjyyv9n-veuS8</td>\n",
       "      <td>SEN Teaching Assistant - SEN TA - London</td>\n",
       "      <td>1</td>\n",
       "    </tr>\n",
       "    <tr>\n",
       "      <th>8217</th>\n",
       "      <td>2WiBn4vyjyyv9n-veuS8</td>\n",
       "      <td>Quality Coordinator</td>\n",
       "      <td>1</td>\n",
       "    </tr>\n",
       "  </tbody>\n",
       "</table>\n",
       "</div>"
      ],
      "text/plain": [
       "                   user_id                                          job_title  \\\n",
       "151   2WiBn4vyjyyv9n-veuS8                                     SUPPORT WORKER   \n",
       "1557  2WiBn4vyjyyv9n-veuS8                   Support Assistant/Support Worker   \n",
       "3599  2WiBn4vyjyyv9n-veuS8  PA / Carer Required – Private Employer £1,300 pcm   \n",
       "5555  2WiBn4vyjyyv9n-veuS8                            Care Assistants Wanted!   \n",
       "6429  2WiBn4vyjyyv9n-veuS8   Autism and Challenging Behavior - Support Worker   \n",
       "6546  2WiBn4vyjyyv9n-veuS8           SEN Teaching Assistant - SEN TA - London   \n",
       "8217  2WiBn4vyjyyv9n-veuS8                                Quality Coordinator   \n",
       "\n",
       "      click_ind  \n",
       "151           1  \n",
       "1557          1  \n",
       "3599          1  \n",
       "5555          1  \n",
       "6429          1  \n",
       "6546          1  \n",
       "8217          1  "
      ]
     },
     "execution_count": 8,
     "metadata": {},
     "output_type": "execute_result"
    }
   ],
   "source": [
    "df[df['user_id'] == '2WiBn4vyjyyv9n-veuS8']"
   ]
  },
  {
   "cell_type": "code",
   "execution_count": 4,
   "metadata": {
    "collapsed": true
   },
   "outputs": [],
   "source": [
    "users = df.user_id.value_counts().ix[lambda x: x > 200].index"
   ]
  },
  {
   "cell_type": "code",
   "execution_count": null,
   "metadata": {
    "collapsed": true
   },
   "outputs": [],
   "source": [
    "def train_model(tup):\n",
    " try:\n",
    "     user, group = tup\n",
    "     X = group['job_title']\n",
    "     y = group['click_ind']\n",
    "     clf = make_pipeline(CountVectorizer(), LogisticRegression())\n",
    "     clf.fit(X,y)\n",
    "     coeffs = sorted(zip(clf.steps[0][1].get_feature_names(), clf.steps[1][1].coef_[0]), key = lambda t: abs(t[1]), reverse = True)\n",
    "     query = \" \".join(\"{}^{:4f}\".format(k, v) for k, v in coeffs)\n",
    "     return user + \"\\t\"+ query\n",
    " except:\n",
    "     return\n",
    "\n",
    "pool = Pool()\n",
    "res = pool.map(train_model, df[df.user_id.isin(users)].groupby('user_id'))\n",
    "res"
   ]
  },
  {
   "cell_type": "code",
   "execution_count": null,
   "metadata": {
    "collapsed": true
   },
   "outputs": [],
   "source": [
    "with open('models.tsv', 'w') as f:\n",
    "    f.write('\\n'.join([r for r in res if r]))"
   ]
  },
  {
   "cell_type": "code",
   "execution_count": null,
   "metadata": {
    "collapsed": true
   },
   "outputs": [],
   "source": []
  }
 ],
 "metadata": {
  "anaconda-cloud": {},
  "kernelspec": {
   "display_name": "Python [conda root]",
   "language": "python",
   "name": "conda-root-py"
  },
  "language_info": {
   "codemirror_mode": {
    "name": "ipython",
    "version": 3
   },
   "file_extension": ".py",
   "mimetype": "text/x-python",
   "name": "python",
   "nbconvert_exporter": "python",
   "pygments_lexer": "ipython3",
   "version": "3.5.2"
  }
 },
 "nbformat": 4,
 "nbformat_minor": 1
}
